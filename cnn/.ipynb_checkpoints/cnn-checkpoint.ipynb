{
 "cells": [
  {
   "cell_type": "code",
   "execution_count": 1,
   "id": "c5b3e98f",
   "metadata": {},
   "outputs": [],
   "source": [
    "import os\n",
    "import shutil\n",
    "import random"
   ]
  },
  {
   "cell_type": "code",
   "execution_count": 2,
   "id": "9d8cf3d3",
   "metadata": {},
   "outputs": [],
   "source": [
    "dataset_path = \"./PlantBalanced\""
   ]
  },
  {
   "cell_type": "code",
   "execution_count": 5,
   "id": "05724419",
   "metadata": {},
   "outputs": [
    {
     "name": "stdout",
     "output_type": "stream",
     "text": [
      "Bacterial_Spot\n",
      "Curl_Virus\n",
      "Early_Blight\n",
      "Healthy\n",
      "Late_Blight\n",
      "Leaf_Mold\n",
      "Mosaic_Virus\n",
      "Septoria_Leaf_Spot\n",
      "Spider_Mites\n",
      "Target_Spot\n"
     ]
    }
   ],
   "source": [
    "for category_folder in os.listdir(dataset_path):\n",
    "    print(category_folder)"
   ]
  },
  {
   "cell_type": "code",
   "execution_count": 8,
   "id": "39bdf0da",
   "metadata": {},
   "outputs": [],
   "source": [
    "desired_num_images = 1000"
   ]
  },
  {
   "cell_type": "code",
   "execution_count": 10,
   "id": "2e3f2e6b",
   "metadata": {},
   "outputs": [],
   "source": [
    "for category_folder in os.listdir(dataset_path):\n",
    "    category_path = os.path.join(dataset_path, category_folder)\n",
    "\n",
    "    # Check if it's a directory\n",
    "    if os.path.isdir(category_path):\n",
    "        # Get a list of all images in the category folder\n",
    "        all_images = os.listdir(category_path)\n",
    "\n",
    "        # If there are more than desired_num_images, randomly select only desired_num_images\n",
    "        if len(all_images) > desired_num_images:\n",
    "            selected_images = random.sample(all_images, desired_num_images)\n",
    "            for image in all_images:\n",
    "                if image not in selected_images:\n",
    "                    image_path = os.path.join(category_path, image)\n",
    "                    os.remove(image_path)\n",
    "                    \n"
   ]
  },
  {
   "cell_type": "code",
   "execution_count": 16,
   "id": "334d92d7",
   "metadata": {},
   "outputs": [],
   "source": [
    "import tensorflow as tf\n",
    "from tensorflow.keras import models, layers\n",
    "import matplotlib.pyplot as plt\n",
    "from IPython.display import HTML\n",
    "import splitfolders\n"
   ]
  },
  {
   "cell_type": "code",
   "execution_count": 17,
   "id": "ebd99a37",
   "metadata": {},
   "outputs": [
    {
     "name": "stderr",
     "output_type": "stream",
     "text": [
      "Copying files: 10000 files [01:13, 135.51 files/s]\n"
     ]
    }
   ],
   "source": [
    "splitfolders.ratio(\"./PlantBalanced\", output=\"output\",\n",
    "    seed=1337, ratio=(.8, .1, .1), group_prefix=None, move=False)"
   ]
  },
  {
   "cell_type": "code",
   "execution_count": 18,
   "id": "98206f48",
   "metadata": {},
   "outputs": [],
   "source": [
    "IMAGE_SIZE = 256\n",
    "CHANNELS = 3"
   ]
  },
  {
   "cell_type": "code",
   "execution_count": 20,
   "id": "73ccf603",
   "metadata": {},
   "outputs": [],
   "source": [
    "output_directory = \"./AugmentedImages\""
   ]
  },
  {
   "cell_type": "code",
   "execution_count": 21,
   "id": "9ff0cbc5",
   "metadata": {},
   "outputs": [],
   "source": [
    "if not os.path.exists(output_directory):\n",
    "    os.makedirs(output_directory)"
   ]
  },
  {
   "cell_type": "code",
   "execution_count": 22,
   "id": "648c86aa",
   "metadata": {},
   "outputs": [],
   "source": [
    "from tensorflow.keras.preprocessing.image import ImageDataGenerator"
   ]
  },
  {
   "cell_type": "code",
   "execution_count": 37,
   "id": "d8f6056e",
   "metadata": {},
   "outputs": [
    {
     "name": "stdout",
     "output_type": "stream",
     "text": [
      "Found 7999 images belonging to 10 classes.\n"
     ]
    }
   ],
   "source": [
    "train_datagen = ImageDataGenerator(\n",
    "        rescale=1./255,\n",
    "        rotation_range=10,\n",
    "        horizontal_flip=True\n",
    ")\n",
    "train_generator = train_datagen.flow_from_directory(\n",
    "        './output/train',\n",
    "        target_size=(IMAGE_SIZE,IMAGE_SIZE),\n",
    "        batch_size=32,\n",
    "        class_mode=\"sparse\",\n",
    "            save_to_dir=\"./AugmentedImages\"\n",
    ")"
   ]
  },
  {
   "cell_type": "code",
   "execution_count": 25,
   "id": "7c9340eb",
   "metadata": {},
   "outputs": [
    {
     "data": {
      "text/plain": [
       "{'Bacterial_Spot': 0,\n",
       " 'Curl_Virus': 1,\n",
       " 'Early_Blight': 2,\n",
       " 'Healthy': 3,\n",
       " 'Late_Blight': 4,\n",
       " 'Leaf_Mold': 5,\n",
       " 'Mosaic_Virus': 6,\n",
       " 'Septoria_Leaf_Spot': 7,\n",
       " 'Spider_Mites': 8,\n",
       " 'Target_Spot': 9}"
      ]
     },
     "execution_count": 25,
     "metadata": {},
     "output_type": "execute_result"
    }
   ],
   "source": [
    "train_generator.class_indices"
   ]
  },
  {
   "cell_type": "code",
   "execution_count": 26,
   "id": "2e5c36d7",
   "metadata": {},
   "outputs": [
    {
     "data": {
      "text/plain": [
       "['Bacterial_Spot',\n",
       " 'Curl_Virus',\n",
       " 'Early_Blight',\n",
       " 'Healthy',\n",
       " 'Late_Blight',\n",
       " 'Leaf_Mold',\n",
       " 'Mosaic_Virus',\n",
       " 'Septoria_Leaf_Spot',\n",
       " 'Spider_Mites',\n",
       " 'Target_Spot']"
      ]
     },
     "execution_count": 26,
     "metadata": {},
     "output_type": "execute_result"
    }
   ],
   "source": [
    "class_names = list(train_generator.class_indices.keys())\n",
    "class_names"
   ]
  },
  {
   "cell_type": "code",
   "execution_count": 27,
   "id": "60e8cbea",
   "metadata": {},
   "outputs": [
    {
     "name": "stdout",
     "output_type": "stream",
     "text": [
      "[2. 8. 4. 0. 2. 9. 0. 5. 1. 6. 7. 6. 8. 1. 4. 7. 1. 9. 4. 8. 4. 7. 4. 3.\n",
      " 6. 5. 2. 7. 5. 3. 7. 0.]\n",
      "[[[0.6308735  0.5642068  0.5877362 ]\n",
      "  [0.6319302  0.5652635  0.5887929 ]\n",
      "  [0.63298684 0.5663202  0.5898496 ]\n",
      "  ...\n",
      "  [0.83003414 0.80258316 0.83003414]\n",
      "  [0.69489    0.66743904 0.69489   ]\n",
      "  [0.7496614  0.72221035 0.7496614 ]]\n",
      "\n",
      " [[0.6207566  0.5540899  0.5776193 ]\n",
      "  [0.6211089  0.55444217 0.57797164]\n",
      "  [0.6214611  0.55479443 0.57832384]\n",
      "  ...\n",
      "  [0.82246125 0.79501027 0.82246125]\n",
      "  [0.69753176 0.6700808  0.69753176]\n",
      "  [0.75107026 0.7236193  0.75107026]]\n",
      "\n",
      " [[0.61626464 0.549598   0.5731274 ]\n",
      "  [0.6164408  0.5497741  0.5733035 ]\n",
      "  [0.61661685 0.5499502  0.5734796 ]\n",
      "  ...\n",
      "  [0.8148883  0.7874373  0.8148883 ]\n",
      "  [0.70017344 0.67272246 0.70017344]\n",
      "  [0.7524792  0.7250282  0.7524792 ]]\n",
      "\n",
      " ...\n",
      "\n",
      " [[0.5008043  0.42629448 0.4498239 ]\n",
      "  [0.47565162 0.4011418  0.4246712 ]\n",
      "  [0.58311707 0.50860727 0.5321367 ]\n",
      "  ...\n",
      "  [0.4963775  0.4453971  0.48069122]\n",
      "  [0.4974342  0.44645378 0.48174793]\n",
      "  [0.49849087 0.44751048 0.4828046 ]]\n",
      "\n",
      " [[0.49428806 0.41977826 0.44330767]\n",
      "  [0.47617996 0.40167016 0.42519957]\n",
      "  [0.589281   0.5147712  0.53830063]\n",
      "  ...\n",
      "  [0.5127154  0.46173498 0.49702913]\n",
      "  [0.5061992  0.45521876 0.49051288]\n",
      "  [0.49968293 0.44870254 0.48399666]]\n",
      "\n",
      " [[0.48777184 0.41326204 0.43679145]\n",
      "  [0.4767083  0.4021985  0.4257279 ]\n",
      "  [0.59544504 0.52093524 0.54446465]\n",
      "  ...\n",
      "  [0.6290653  0.5780849  0.613379  ]\n",
      "  [0.6280086  0.5770282  0.61232233]\n",
      "  [0.62695193 0.5759715  0.61126566]]]\n"
     ]
    }
   ],
   "source": [
    "count=0\n",
    "for image_batch, label_batch in train_generator:\n",
    "    print(label_batch)\n",
    "    print(image_batch[0])\n",
    "    break"
   ]
  },
  {
   "cell_type": "code",
   "execution_count": 28,
   "id": "3f5f17ad",
   "metadata": {},
   "outputs": [
    {
     "name": "stdout",
     "output_type": "stream",
     "text": [
      "Found 1000 images belonging to 10 classes.\n"
     ]
    }
   ],
   "source": [
    "validation_datagen = ImageDataGenerator(\n",
    "        rescale=1./255,\n",
    "        rotation_range=10,\n",
    "        horizontal_flip=True)\n",
    "validation_generator = validation_datagen.flow_from_directory(\n",
    "        './output/val',\n",
    "        target_size=(IMAGE_SIZE,IMAGE_SIZE),\n",
    "        batch_size=32,\n",
    "        class_mode=\"sparse\"\n",
    ")"
   ]
  },
  {
   "cell_type": "code",
   "execution_count": 29,
   "id": "1de8ea00",
   "metadata": {},
   "outputs": [
    {
     "name": "stdout",
     "output_type": "stream",
     "text": [
      "Found 1000 images belonging to 10 classes.\n"
     ]
    }
   ],
   "source": [
    "test_datagen = ImageDataGenerator(\n",
    "        rescale=1./255,\n",
    "        rotation_range=10,\n",
    "        horizontal_flip=True)\n",
    "\n",
    "test_generator = test_datagen.flow_from_directory(\n",
    "        'output/test',\n",
    "        target_size=(IMAGE_SIZE,IMAGE_SIZE),\n",
    "        batch_size=32,\n",
    "        class_mode=\"sparse\"\n",
    ")"
   ]
  },
  {
   "cell_type": "code",
   "execution_count": 30,
   "id": "6300986f",
   "metadata": {},
   "outputs": [
    {
     "name": "stdout",
     "output_type": "stream",
     "text": [
      "[[[0.7824025  0.723579   0.696128  ]\n",
      "  [0.78113633 0.7223128  0.6948618 ]\n",
      "  [0.7803922  0.72156864 0.69411767]\n",
      "  ...\n",
      "  [0.7737638  0.70317554 0.6953324 ]\n",
      "  [0.770535   0.6999467  0.69210356]\n",
      "  [0.7744603  0.7038721  0.69602895]]\n",
      "\n",
      " [[0.7786981  0.7198745  0.6924235 ]\n",
      "  [0.78502905 0.7262055  0.69875455]\n",
      "  [0.7876104  0.7287868  0.70133585]\n",
      "  ...\n",
      "  [0.77566314 0.70507485 0.6972317 ]\n",
      "  [0.76926875 0.69868046 0.6908373 ]\n",
      "  [0.7757265  0.70513827 0.6972951 ]]\n",
      "\n",
      " [[0.7517265  0.692903   0.665452  ]\n",
      "  [0.74982715 0.6910036  0.66355264]\n",
      "  [0.7526589  0.6938354  0.6663844 ]\n",
      "  ...\n",
      "  [0.77574277 0.70515454 0.6973114 ]\n",
      "  [0.7692524  0.6986642  0.69082105]\n",
      "  [0.77647066 0.7058824  0.69803923]]\n",
      "\n",
      " ...\n",
      "\n",
      " [[0.6353061  0.5607963  0.53334534]\n",
      "  [0.5962191  0.5217093  0.49425834]\n",
      "  [0.5387922  0.4642824  0.4368314 ]\n",
      "  ...\n",
      "  [0.5645427  0.48611137 0.45081723]\n",
      "  [0.5744333  0.49600196 0.46070784]\n",
      "  [0.57886505 0.5004337  0.46513957]]\n",
      "\n",
      " [[0.6383004  0.5637906  0.53633964]\n",
      "  [0.58734757 0.51283777 0.48538676]\n",
      "  [0.53010315 0.45559338 0.4281424 ]\n",
      "  ...\n",
      "  [0.49158671 0.41315535 0.37786123]\n",
      "  [0.49332824 0.41489688 0.37960276]\n",
      "  [0.50725657 0.42882517 0.39353105]]\n",
      "\n",
      " [[0.6300701  0.5555603  0.5281093 ]\n",
      "  [0.577851   0.50334114 0.4758902 ]\n",
      "  [0.5225059  0.44799614 0.42054516]\n",
      "  ...\n",
      "  [0.5505918  0.4721605  0.43686637]\n",
      "  [0.54661614 0.4681847  0.4328906 ]\n",
      "  [0.5358533  0.45742193 0.4221278 ]]]\n"
     ]
    }
   ],
   "source": [
    "for image_batch, label_batch in test_generator:\n",
    "    print(image_batch[0])\n",
    "    break"
   ]
  },
  {
   "cell_type": "code",
   "execution_count": 33,
   "id": "c7951b0d",
   "metadata": {},
   "outputs": [],
   "source": [
    "input_shape = (IMAGE_SIZE, IMAGE_SIZE, CHANNELS)\n",
    "n_classes = 10\n",
    "\n",
    "model = models.Sequential([\n",
    "    layers.InputLayer(input_shape=input_shape),\n",
    "    layers.Conv2D(32, kernel_size=(3, 3), activation='relu'),\n",
    "    layers.MaxPooling2D(pool_size=(2, 2)),\n",
    "    layers.Conv2D(64, kernel_size=(3, 3), activation='relu'),\n",
    "    layers.MaxPooling2D(pool_size=(2, 2)),\n",
    "    layers.Conv2D(64, kernel_size=(3, 3), activation='relu'),\n",
    "    layers.MaxPooling2D(pool_size=(2, 2)),\n",
    "    layers.Conv2D(64, kernel_size=(3, 3), activation='relu'),\n",
    "    layers.MaxPooling2D(pool_size=(2, 2)),\n",
    "    layers.Conv2D(64, kernel_size=(3, 3), activation='relu'),\n",
    "    layers.MaxPooling2D(pool_size=(2, 2)),\n",
    "    layers.Conv2D(64, kernel_size=(3, 3), activation='relu'),\n",
    "    layers.MaxPooling2D(pool_size=(2, 2)),\n",
    "    layers.Flatten(),\n",
    "    layers.Dense(64, activation='relu'),\n",
    "    layers.Dense(n_classes, activation='softmax'),\n",
    "])"
   ]
  },
  {
   "cell_type": "code",
   "execution_count": 34,
   "id": "cb4df891",
   "metadata": {},
   "outputs": [
    {
     "name": "stdout",
     "output_type": "stream",
     "text": [
      "Model: \"sequential_1\"\n",
      "_________________________________________________________________\n",
      " Layer (type)                Output Shape              Param #   \n",
      "=================================================================\n",
      " conv2d_6 (Conv2D)           (None, 254, 254, 32)      896       \n",
      "                                                                 \n",
      " max_pooling2d_6 (MaxPoolin  (None, 127, 127, 32)      0         \n",
      " g2D)                                                            \n",
      "                                                                 \n",
      " conv2d_7 (Conv2D)           (None, 125, 125, 64)      18496     \n",
      "                                                                 \n",
      " max_pooling2d_7 (MaxPoolin  (None, 62, 62, 64)        0         \n",
      " g2D)                                                            \n",
      "                                                                 \n",
      " conv2d_8 (Conv2D)           (None, 60, 60, 64)        36928     \n",
      "                                                                 \n",
      " max_pooling2d_8 (MaxPoolin  (None, 30, 30, 64)        0         \n",
      " g2D)                                                            \n",
      "                                                                 \n",
      " conv2d_9 (Conv2D)           (None, 28, 28, 64)        36928     \n",
      "                                                                 \n",
      " max_pooling2d_9 (MaxPoolin  (None, 14, 14, 64)        0         \n",
      " g2D)                                                            \n",
      "                                                                 \n",
      " conv2d_10 (Conv2D)          (None, 12, 12, 64)        36928     \n",
      "                                                                 \n",
      " max_pooling2d_10 (MaxPooli  (None, 6, 6, 64)          0         \n",
      " ng2D)                                                           \n",
      "                                                                 \n",
      " conv2d_11 (Conv2D)          (None, 4, 4, 64)          36928     \n",
      "                                                                 \n",
      " max_pooling2d_11 (MaxPooli  (None, 2, 2, 64)          0         \n",
      " ng2D)                                                           \n",
      "                                                                 \n",
      " flatten_1 (Flatten)         (None, 256)               0         \n",
      "                                                                 \n",
      " dense_2 (Dense)             (None, 64)                16448     \n",
      "                                                                 \n",
      " dense_3 (Dense)             (None, 10)                650       \n",
      "                                                                 \n",
      "=================================================================\n",
      "Total params: 184202 (719.54 KB)\n",
      "Trainable params: 184202 (719.54 KB)\n",
      "Non-trainable params: 0 (0.00 Byte)\n",
      "_________________________________________________________________\n"
     ]
    }
   ],
   "source": [
    "model.summary()"
   ]
  },
  {
   "cell_type": "code",
   "execution_count": 35,
   "id": "ce7619ee",
   "metadata": {},
   "outputs": [],
   "source": [
    "model.compile(\n",
    "    optimizer=tf.optimizers.Adam(), \n",
    "    loss=tf.keras.losses.SparseCategoricalCrossentropy(from_logits=False),\n",
    "    metrics=['accuracy']\n",
    ")"
   ]
  },
  {
   "cell_type": "code",
   "execution_count": null,
   "id": "a954ff84",
   "metadata": {},
   "outputs": [],
   "source": []
  }
 ],
 "metadata": {
  "kernelspec": {
   "display_name": "Python 3 (ipykernel)",
   "language": "python",
   "name": "python3"
  },
  "language_info": {
   "codemirror_mode": {
    "name": "ipython",
    "version": 3
   },
   "file_extension": ".py",
   "mimetype": "text/x-python",
   "name": "python",
   "nbconvert_exporter": "python",
   "pygments_lexer": "ipython3",
   "version": "3.11.5"
  }
 },
 "nbformat": 4,
 "nbformat_minor": 5
}
